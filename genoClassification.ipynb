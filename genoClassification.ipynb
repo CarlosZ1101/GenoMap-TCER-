{
 "cells": [
  {
   "cell_type": "code",
   "execution_count": 2,
   "id": "15ec0684",
   "metadata": {
    "scrolled": false
   },
   "outputs": [
    {
     "name": "stdout",
     "output_type": "stream",
     "text": [
      "0: 1.1666481174724095\n",
      "10: 0.12969147120996136\n",
      "20: 0.07397203404611145\n",
      "30: 0.038227657972816\n",
      "40: 0.04257327489250777\n",
      "50: 0.027772820841130034\n",
      "60: 0.05024837621972345\n",
      "70: 0.021659176843088126\n",
      "80: 0.026144055880856654\n",
      "90: 0.012154437369775093\n",
      "100: 0.012330189825210594\n",
      "110: 0.019667269965703667\n",
      "120: 0.014750330316432893\n",
      "130: 0.010189499520116448\n",
      "140: 0.016991410445575176\n",
      "Classification accuracy of genomap approach:0.9741206488062694\n"
     ]
    }
   ],
   "source": [
    "##genoClassification for tabular data classification\n",
    "##A genetic classification algorithm test is performed on the data, \n",
    "#and genoClassification integrated in genomap is effective for gene classification.\n",
    "import pandas as pd\n",
    "import numpy as np\n",
    "import scipy.io as sio\n",
    "import genomap.genoClassification as gp\n",
    "from genomap.utils.util_genoClassReg import select_random_values\n",
    "\n",
    "# First, we load the TM data. Data should be in cells X genes format, \n",
    "data = pd.read_csv('TM_data.csv', header=None,\n",
    "                   delim_whitespace=False)\n",
    "\n",
    "# Creation of genomaps\n",
    "# Selection of row and column number of the genomaps \n",
    "# To create square genomaps, the row and column numbers are set to be the same.\n",
    "colNum=33 \n",
    "rowNum=33\n",
    "\n",
    "# Load ground truth cell labels of the TM dataset\n",
    "gt_data = sio.loadmat('GT_TM.mat')\n",
    "GT = np.squeeze(gt_data['GT'])\n",
    "GT=GT-1 # to ensure the labels begin with 0 to conform with PyTorch\n",
    "\n",
    "# Select 80% data randomly for training and others for testing\n",
    "indxTrain, indxTest= select_random_values(start=0, end=GT.shape[0], perc=0.8)\n",
    "groundTruthTest = GT[indxTest-1]\n",
    "\n",
    "training_data=data.values[indxTrain-1]\n",
    "training_labels=GT[indxTrain-1]\n",
    "test_data=data.values[indxTest-1]\n",
    "\n",
    "est=gp.genoClassification(training_data, training_labels, test_data, rowNum=rowNum, colNum=colNum, epoch=150)\n",
    "\n",
    "print('Classification accuracy of genomap approach:'+str(np.sum(est==groundTruthTest) / est.shape[0]))  "
   ]
  },
  {
   "cell_type": "code",
   "execution_count": null,
   "id": "d07aee7a",
   "metadata": {},
   "outputs": [],
   "source": []
  }
 ],
 "metadata": {
  "kernelspec": {
   "display_name": "Python [conda env:genomap]",
   "language": "python",
   "name": "conda-env-genomap-py"
  },
  "language_info": {
   "codemirror_mode": {
    "name": "ipython",
    "version": 3
   },
   "file_extension": ".py",
   "mimetype": "text/x-python",
   "name": "python",
   "nbconvert_exporter": "python",
   "pygments_lexer": "ipython3",
   "version": "3.8.20"
  }
 },
 "nbformat": 4,
 "nbformat_minor": 5
}
